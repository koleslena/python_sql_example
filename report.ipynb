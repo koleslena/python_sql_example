{
 "cells": [
  {
   "cell_type": "markdown",
   "id": "d943353b",
   "metadata": {},
   "source": [
    "# Отчет по работе приложения"
   ]
  },
  {
   "cell_type": "markdown",
   "id": "d6dba187",
   "metadata": {},
   "source": [
    "## Использование приложения"
   ]
  },
  {
   "cell_type": "markdown",
   "id": "01a75a0b",
   "metadata": {},
   "source": [
    "### Примеры команд запуска приложения:"
   ]
  },
  {
   "cell_type": "code",
   "execution_count": null,
   "id": "f7d4835a",
   "metadata": {},
   "outputs": [],
   "source": [
    "# Создания таблицы пользователей\n",
    "!main.py --mode 1\n",
    "\n",
    "# Создания записи в таблице пользователей\n",
    "!main.py --mode 2 --full_name \"Фамилия Имя Отчество\" --gender Male --birth_date 2004-05-12\n",
    "\n",
    "# Запрос всех записей таблицы пользователей отсортированных по имени\n",
    "!main.py --mode 3\n",
    "\n",
    "# Генерация записей в таблицу пользователей\n",
    "!main.py --mode 4\n",
    "\n",
    "# Запрос пользователей с началом имени 'F' мужского пола, выводит время выполнения запроса\n",
    "!main.py --mode 5\n"
   ]
  },
  {
   "cell_type": "markdown",
   "id": "b5a98fdb",
   "metadata": {},
   "source": [
    "##### Пример ответа для режима 3\n",
    "\n",
    "Function 'execute_query' executed in 0.055458 seconds\n",
    "\n",
    "User: full_name='Фамилия Имя Отчество',                         birth_date=2004-05-12,                         gender=Male,                         age=21"
   ]
  },
  {
   "cell_type": "markdown",
   "id": "92f2dd06",
   "metadata": {},
   "source": [
    "##### Пример ответа для режима 5 "
   ]
  },
  {
   "cell_type": "markdown",
   "id": "25fd3b5e",
   "metadata": {},
   "source": [
    "до добавления индекса\n",
    "\n",
    "Function 'execute_query' executed in 0.162886 seconds\n",
    "\n",
    "Function 'select_users' executed in 0.202541 seconds"
   ]
  },
  {
   "cell_type": "markdown",
   "id": "020bb98b",
   "metadata": {},
   "source": [
    "после добавления индекса\n",
    "\n",
    "Function 'execute_query' executed in 0.143326 seconds\n",
    "\n",
    "Function 'select_users' executed in 0.183705 seconds"
   ]
  },
  {
   "cell_type": "markdown",
   "id": "399479db",
   "metadata": {},
   "source": [
    "Для улучшения производительности запроса был добавлен индекс. Так как запрос на два столбца, то индекс составной на 2 столбца. Также использовался оператор text_pattern_ops для поля имени, он позволяет ускорить поиск для тестовых полей с использованием паттернов и условий типа <code>LIKE 'PREXIF%'</code>. Индекс дал небольшое улучшение производительности запроса. "
   ]
  },
  {
   "cell_type": "code",
   "execution_count": null,
   "id": "b07fb925",
   "metadata": {
    "vscode": {
     "languageId": "sql"
    }
   },
   "outputs": [],
   "source": [
    "-- код создания индекса\n",
    "CREATE INDEX idx_gender_name ON users (gender, full_name text_pattern_ops);"
   ]
  },
  {
   "cell_type": "markdown",
   "id": "ce32d965",
   "metadata": {},
   "source": [
    "### Запуск тестов"
   ]
  },
  {
   "cell_type": "code",
   "execution_count": null,
   "id": "caf2b7dd",
   "metadata": {},
   "outputs": [],
   "source": [
    "!pytest user_test.py\n",
    "\n",
    "!pytest date_time_util_test.py"
   ]
  }
 ],
 "metadata": {
  "kernelspec": {
   "display_name": "PythonBD",
   "language": "python",
   "name": "venv"
  },
  "language_info": {
   "name": "python",
   "version": "3.9.9"
  }
 },
 "nbformat": 4,
 "nbformat_minor": 5
}
